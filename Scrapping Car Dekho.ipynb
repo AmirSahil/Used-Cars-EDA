{
 "cells": [
  {
   "cell_type": "code",
   "execution_count": 1,
   "metadata": {},
   "outputs": [],
   "source": [
    "import requests\n",
    "from bs4 import BeautifulSoup\n",
    "import re\n",
    "import pandas as pd"
   ]
  },
  {
   "cell_type": "code",
   "execution_count": 2,
   "metadata": {},
   "outputs": [],
   "source": [
    "manufacturer = []\n",
    "car_name = []\n",
    "price = []\n",
    "location = []\n",
    "city = []\n",
    "fuel_type = []\n",
    "transmission = []\n",
    "mileage = []\n",
    "engine = []\n",
    "max_power = []\n",
    "torque = []\n",
    "wheel_size = []\n",
    "mode_of_sale = []\n",
    "kms_driven = []\n",
    "no_of_owners = []\n",
    "seats=[]\n",
    "manufacturing_year = []\n",
    "new_car_price = []\n",
    "urls = []\n",
    "links = []"
   ]
  },
  {
   "cell_type": "code",
   "execution_count": 3,
   "metadata": {},
   "outputs": [],
   "source": [
    "agent = {\"User-Agent\":'Mozilla/5.0 (Windows NT 6.3; WOW64) AppleWebKit/537.36 (KHTML, like Gecko) Chrome/59.0.3071.115 Safari/537.36'}\n",
    "base_url = 'https://www.cardekho.com'\n",
    "base_page = requests.get(base_url, headers=agent)\n",
    "base_soup = BeautifulSoup(base_page.content, 'lxml')\n",
    "citi = base_soup('span', class_='innerSpan')\n",
    "cities = [c.lower() for c in[city.contents[0] for city in citi][15:24]][:-1]"
   ]
  },
  {
   "cell_type": "code",
   "execution_count": 4,
   "metadata": {},
   "outputs": [
    {
     "name": "stdout",
     "output_type": "stream",
     "text": [
      "['bangalore', 'chennai', 'delhi ncr', 'hyderabad', 'jaipur', 'kolkata', 'mumbai', 'pune', 'agra', 'amritsar', 'visakhapatnam', 'vijayawada', 'udupi', 'allahabad', 'panaji', 'chandigarh', 'thiruvananthapuram', 'lucknow', 'gurgaon', 'kochi']\n"
     ]
    }
   ],
   "source": [
    "more_cities = ['agra','amritsar','visakhapatnam','vijayawada','udupi','allahabad','panaji','chandigarh','thiruvananthapuram','lucknow','gurgaon','kochi']\n",
    "for m in more_cities:\n",
    "    cities.append(m)\n",
    "    \n",
    "print(cities)"
   ]
  },
  {
   "cell_type": "code",
   "execution_count": 5,
   "metadata": {},
   "outputs": [
    {
     "name": "stdout",
     "output_type": "stream",
     "text": [
      "https://www.cardekho.com/used-cars+in+bangalore\n",
      "https://www.cardekho.com/used-cars+in+chennai\n",
      "https://www.cardekho.com/used-cars+in+delhi ncr\n",
      "https://www.cardekho.com/used-cars+in+hyderabad\n",
      "https://www.cardekho.com/used-cars+in+jaipur\n",
      "https://www.cardekho.com/used-cars+in+kolkata\n",
      "https://www.cardekho.com/used-cars+in+mumbai\n",
      "https://www.cardekho.com/used-cars+in+pune\n",
      "https://www.cardekho.com/used-cars+in+agra\n",
      "https://www.cardekho.com/used-cars+in+amritsar\n",
      "https://www.cardekho.com/used-cars+in+visakhapatnam\n",
      "https://www.cardekho.com/used-cars+in+vijayawada\n",
      "https://www.cardekho.com/used-cars+in+udupi\n",
      "https://www.cardekho.com/used-cars+in+allahabad\n",
      "https://www.cardekho.com/used-cars+in+panaji\n",
      "https://www.cardekho.com/used-cars+in+chandigarh\n",
      "https://www.cardekho.com/used-cars+in+thiruvananthapuram\n",
      "https://www.cardekho.com/used-cars+in+lucknow\n",
      "https://www.cardekho.com/used-cars+in+gurgaon\n",
      "https://www.cardekho.com/used-cars+in+kochi\n"
     ]
    }
   ],
   "source": [
    "for ci in cities:\n",
    "    url = [f'https://www.cardekho.com/used-cars+in+{ci}'][0]\n",
    "    print(url)\n",
    "    page = requests.get(url, headers=agent)\n",
    "    soup = BeautifulSoup(page.content, 'lxml')\n",
    "    main_div = soup.findAll('div', class_='gsc_col-sm-12 gsc_col-md-12 trustmarkbox holder')\n",
    "    manufacturer += [main_div.find('a').get('title')[5:].split(' ')[0] for main_div in main_div]\n",
    "    car = [main_div.find('a').get('title')[5:].split(' ')[1:][0] for main_div in main_div]\n",
    "    car_name += car\n",
    "    location += [main_div.find('span',class_=\"truncate\").text.strip('• \\xa0 ') for main_div in main_div]\n",
    "    for _ in range(len(car)):\n",
    "        city.append(ci)\n",
    "    urls += ['https://www.cardekho.com'+main_div.find('a').get('href') for main_div in main_div]"
   ]
  },
  {
   "cell_type": "code",
   "execution_count": 6,
   "metadata": {},
   "outputs": [
    {
     "ename": "ValueError",
     "evalue": "could not convert string to float: '80,000'",
     "output_type": "error",
     "traceback": [
      "\u001b[0;31m---------------------------------------------------------------------------\u001b[0m",
      "\u001b[0;31mValueError\u001b[0m                                Traceback (most recent call last)",
      "\u001b[0;32m<ipython-input-6-c802e2becdcd>\u001b[0m in \u001b[0;36m<module>\u001b[0;34m\u001b[0m\n\u001b[1;32m     21\u001b[0m     \u001b[0;31m# seats.append([main.findAll('div',class_='iconDetail')[11].text.strip('Seats') for main in main][0])\u001b[0m\u001b[0;34m\u001b[0m\u001b[0;34m\u001b[0m\u001b[0;34m\u001b[0m\u001b[0m\n\u001b[1;32m     22\u001b[0m     \u001b[0mseats\u001b[0m\u001b[0;34m.\u001b[0m\u001b[0mappend\u001b[0m\u001b[0;34m(\u001b[0m\u001b[0;34m[\u001b[0m\u001b[0mmain\u001b[0m\u001b[0;34m.\u001b[0m\u001b[0mfindAll\u001b[0m\u001b[0;34m(\u001b[0m\u001b[0;34m'div'\u001b[0m\u001b[0;34m,\u001b[0m\u001b[0mclass_\u001b[0m\u001b[0;34m=\u001b[0m\u001b[0;34m'iconDetail'\u001b[0m\u001b[0;34m)\u001b[0m\u001b[0;34m[\u001b[0m\u001b[0;36m11\u001b[0m\u001b[0;34m]\u001b[0m\u001b[0;34m.\u001b[0m\u001b[0mtext\u001b[0m\u001b[0;34m.\u001b[0m\u001b[0mstrip\u001b[0m\u001b[0;34m(\u001b[0m\u001b[0;34m'Seats'\u001b[0m\u001b[0;34m)\u001b[0m \u001b[0;32mif\u001b[0m \u001b[0mmain\u001b[0m\u001b[0;34m.\u001b[0m\u001b[0mfindAll\u001b[0m\u001b[0;34m(\u001b[0m\u001b[0;34m'div'\u001b[0m\u001b[0;34m,\u001b[0m\u001b[0mclass_\u001b[0m\u001b[0;34m=\u001b[0m\u001b[0;34m'iconDetail'\u001b[0m\u001b[0;34m)\u001b[0m\u001b[0;34m[\u001b[0m\u001b[0;36m11\u001b[0m\u001b[0;34m]\u001b[0m\u001b[0;34m.\u001b[0m\u001b[0mtext\u001b[0m\u001b[0;34m[\u001b[0m\u001b[0;34m:\u001b[0m\u001b[0;36m5\u001b[0m\u001b[0;34m]\u001b[0m \u001b[0;34m==\u001b[0m \u001b[0;34m'Seats'\u001b[0m \u001b[0;32melse\u001b[0m \u001b[0;32mNone\u001b[0m \u001b[0;32mfor\u001b[0m \u001b[0mmain\u001b[0m \u001b[0;32min\u001b[0m \u001b[0mmain\u001b[0m\u001b[0;34m]\u001b[0m\u001b[0;34m[\u001b[0m\u001b[0;36m0\u001b[0m\u001b[0;34m]\u001b[0m\u001b[0;34m)\u001b[0m\u001b[0;34m\u001b[0m\u001b[0;34m\u001b[0m\u001b[0m\n\u001b[0;32m---> 23\u001b[0;31m     \u001b[0mprice\u001b[0m\u001b[0;34m.\u001b[0m\u001b[0mappend\u001b[0m\u001b[0;34m(\u001b[0m\u001b[0;34m[\u001b[0m\u001b[0mfloat\u001b[0m\u001b[0;34m(\u001b[0m\u001b[0mmain_pr\u001b[0m\u001b[0;34m.\u001b[0m\u001b[0mcontents\u001b[0m\u001b[0;34m[\u001b[0m\u001b[0;36m1\u001b[0m\u001b[0;34m]\u001b[0m\u001b[0;34m.\u001b[0m\u001b[0mstrip\u001b[0m\u001b[0;34m(\u001b[0m\u001b[0;34m' Lakh'\u001b[0m\u001b[0;34m)\u001b[0m\u001b[0;34m)\u001b[0m \u001b[0;32mfor\u001b[0m \u001b[0mmain_pr\u001b[0m \u001b[0;32min\u001b[0m \u001b[0mmain_pr\u001b[0m\u001b[0;34m]\u001b[0m\u001b[0;34m[\u001b[0m\u001b[0;36m0\u001b[0m\u001b[0;34m]\u001b[0m\u001b[0;34m)\u001b[0m\u001b[0;34m\u001b[0m\u001b[0;34m\u001b[0m\u001b[0m\n\u001b[0m",
      "\u001b[0;32m<ipython-input-6-c802e2becdcd>\u001b[0m in \u001b[0;36m<listcomp>\u001b[0;34m(.0)\u001b[0m\n\u001b[1;32m     21\u001b[0m     \u001b[0;31m# seats.append([main.findAll('div',class_='iconDetail')[11].text.strip('Seats') for main in main][0])\u001b[0m\u001b[0;34m\u001b[0m\u001b[0;34m\u001b[0m\u001b[0;34m\u001b[0m\u001b[0m\n\u001b[1;32m     22\u001b[0m     \u001b[0mseats\u001b[0m\u001b[0;34m.\u001b[0m\u001b[0mappend\u001b[0m\u001b[0;34m(\u001b[0m\u001b[0;34m[\u001b[0m\u001b[0mmain\u001b[0m\u001b[0;34m.\u001b[0m\u001b[0mfindAll\u001b[0m\u001b[0;34m(\u001b[0m\u001b[0;34m'div'\u001b[0m\u001b[0;34m,\u001b[0m\u001b[0mclass_\u001b[0m\u001b[0;34m=\u001b[0m\u001b[0;34m'iconDetail'\u001b[0m\u001b[0;34m)\u001b[0m\u001b[0;34m[\u001b[0m\u001b[0;36m11\u001b[0m\u001b[0;34m]\u001b[0m\u001b[0;34m.\u001b[0m\u001b[0mtext\u001b[0m\u001b[0;34m.\u001b[0m\u001b[0mstrip\u001b[0m\u001b[0;34m(\u001b[0m\u001b[0;34m'Seats'\u001b[0m\u001b[0;34m)\u001b[0m \u001b[0;32mif\u001b[0m \u001b[0mmain\u001b[0m\u001b[0;34m.\u001b[0m\u001b[0mfindAll\u001b[0m\u001b[0;34m(\u001b[0m\u001b[0;34m'div'\u001b[0m\u001b[0;34m,\u001b[0m\u001b[0mclass_\u001b[0m\u001b[0;34m=\u001b[0m\u001b[0;34m'iconDetail'\u001b[0m\u001b[0;34m)\u001b[0m\u001b[0;34m[\u001b[0m\u001b[0;36m11\u001b[0m\u001b[0;34m]\u001b[0m\u001b[0;34m.\u001b[0m\u001b[0mtext\u001b[0m\u001b[0;34m[\u001b[0m\u001b[0;34m:\u001b[0m\u001b[0;36m5\u001b[0m\u001b[0;34m]\u001b[0m \u001b[0;34m==\u001b[0m \u001b[0;34m'Seats'\u001b[0m \u001b[0;32melse\u001b[0m \u001b[0;32mNone\u001b[0m \u001b[0;32mfor\u001b[0m \u001b[0mmain\u001b[0m \u001b[0;32min\u001b[0m \u001b[0mmain\u001b[0m\u001b[0;34m]\u001b[0m\u001b[0;34m[\u001b[0m\u001b[0;36m0\u001b[0m\u001b[0;34m]\u001b[0m\u001b[0;34m)\u001b[0m\u001b[0;34m\u001b[0m\u001b[0;34m\u001b[0m\u001b[0m\n\u001b[0;32m---> 23\u001b[0;31m     \u001b[0mprice\u001b[0m\u001b[0;34m.\u001b[0m\u001b[0mappend\u001b[0m\u001b[0;34m(\u001b[0m\u001b[0;34m[\u001b[0m\u001b[0mfloat\u001b[0m\u001b[0;34m(\u001b[0m\u001b[0mmain_pr\u001b[0m\u001b[0;34m.\u001b[0m\u001b[0mcontents\u001b[0m\u001b[0;34m[\u001b[0m\u001b[0;36m1\u001b[0m\u001b[0;34m]\u001b[0m\u001b[0;34m.\u001b[0m\u001b[0mstrip\u001b[0m\u001b[0;34m(\u001b[0m\u001b[0;34m' Lakh'\u001b[0m\u001b[0;34m)\u001b[0m\u001b[0;34m)\u001b[0m \u001b[0;32mfor\u001b[0m \u001b[0mmain_pr\u001b[0m \u001b[0;32min\u001b[0m \u001b[0mmain_pr\u001b[0m\u001b[0;34m]\u001b[0m\u001b[0;34m[\u001b[0m\u001b[0;36m0\u001b[0m\u001b[0;34m]\u001b[0m\u001b[0;34m)\u001b[0m\u001b[0;34m\u001b[0m\u001b[0;34m\u001b[0m\u001b[0m\n\u001b[0m",
      "\u001b[0;31mValueError\u001b[0m: could not convert string to float: '80,000'"
     ]
    }
   ],
   "source": [
    "for u in urls:\n",
    "    page_sub = requests.get(u, headers=agent)\n",
    "    souped = BeautifulSoup(page_sub.content, 'lxml')\n",
    "    main = souped.findAll('div',class_='gsc_col-xs-12 gsc_col-md-8 leftPanle')\n",
    "    main_pr = souped.findAll('span',class_='priceheader')\n",
    "    manufacturing_year.append([main.findAll('div',class_='iconDetail')[0].text for main in main][0])\n",
    "    mode_of_sale.append([main.findAll('div',class_='iconDetail')[1].text for main in main][0])\n",
    "    kms_driven.append([main.findAll('div',class_='iconDetail')[2].text.strip(' kms') for main in main][0])\n",
    "    no_of_owners.append([main.findAll('div',class_='iconDetail')[3].text.strip(' Owner') for main in main][0])\n",
    "    fuel_type.append([main.findAll('div',class_='iconDetail')[4].text for main in main][0])\n",
    "    transmission.append([main.findAll('div',class_='iconDetail')[5].text for main in main][0])\n",
    "    # mileage.append([main.findAll('div',class_='iconDetail')[6].text.strip('Mileage')[:-4] for main in main][0])\n",
    "    mileage.append([main.findAll('div',class_='iconDetail')[6].text.strip('Mileage')[:-4] if main.findAll('div',class_='iconDetail')[6].text[:7] == 'Mileage' else None for main in main][0])\n",
    "    # engine.append([main.findAll('div',class_='iconDetail')[7].text.strip('Engine')[:-3] for main in main][0])\n",
    "    engine.append([main.findAll('div',class_='iconDetail')[7].text.strip('Engine')[:-3] if main.findAll('div',class_='iconDetail')[7].text[:6] == 'Engine' else None for main in main][0])\n",
    "    # max_power.append([main.findAll('div',class_='iconDetail')[8].text.strip('Max Power')[:-4] for main in main][0])\n",
    "    max_power.append([main.findAll('div',class_='iconDetail')[8].text.strip('Max Power')[:-4] if main.findAll('div',class_='iconDetail')[8].text[:9] == 'Max Power' else None for main in main][0])\n",
    "    # torque.append([main.findAll('div',class_='iconDetail')[9].text.strip('Torque') for main in main][0])\n",
    "    # wheel_size.append([main.findAll('div',class_='iconDetail')[10].text.strip('Wheel Size') for main in main][0])\n",
    "    wheel_size.append([main.findAll('div',class_='iconDetail')[10].text.strip('Wheel Size') if main.findAll('div',class_='iconDetail')[10].text[:10] == 'Wheel Size' else None for main in main][0])\n",
    "    # seats.append([main.findAll('div',class_='iconDetail')[11].text.strip('Seats') for main in main][0])\n",
    "    seats.append([main.findAll('div',class_='iconDetail')[11].text.strip('Seats') if main.findAll('div',class_='iconDetail')[11].text[:5] == 'Seats' else None for main in main][0])\n",
    "    price.append([float(main_pr.contents[1].strip(' Lakh')) for main_pr in main_pr][0])"
   ]
  },
  {
   "cell_type": "code",
   "execution_count": 39,
   "metadata": {},
   "outputs": [
    {
     "data": {
      "text/plain": [
       "9.0"
      ]
     },
     "execution_count": 39,
     "metadata": {},
     "output_type": "execute_result"
    }
   ],
   "source": [
    "[float(main_pr.contents[1].strip(' Lakh')) for main_pr in main_pr][0]"
   ]
  },
  {
   "cell_type": "code",
   "execution_count": 7,
   "metadata": {},
   "outputs": [],
   "source": [
    "used_cars = pd.DataFrame()"
   ]
  },
  {
   "cell_type": "code",
   "execution_count": 8,
   "metadata": {},
   "outputs": [
    {
     "data": {
      "text/plain": [
       "(0, 0)"
      ]
     },
     "execution_count": 8,
     "metadata": {},
     "output_type": "execute_result"
    }
   ],
   "source": [
    "used_cars.shape"
   ]
  },
  {
   "cell_type": "code",
   "execution_count": 10,
   "metadata": {},
   "outputs": [],
   "source": [
    "used_cars['manufacturer'] = manufacturer\n",
    "used_cars['car_name'] = car_name\n",
    "used_cars['manufacturing_year'] = manufacturing_year\n",
    "used_cars['no_of_owners'] = no_of_owners\n",
    "used_cars['kms_driven'] = kms_driven\n",
    "used_cars['location'] = location\n",
    "used_cars['city'] = city\n",
    "used_cars['transmission'] = transmission\n",
    "used_cars['mileage'] = mileage\n",
    "used_cars['fuel_type'] = fuel_type\n",
    "used_cars['mode_of_sale'] = mode_of_sale\n",
    "used_cars['seats'] = seats\n",
    "used_cars['engine'] = engine\n",
    "used_cars['max_power'] = max_power\n",
    "# used_cars['torque'] = torque\n",
    "used_cars['wheel_size'] = wheel_size\n",
    "used_cars['seats'] = seats\n",
    "used_cars['price'] = price\n",
    "# used_cars['links'] = links"
   ]
  },
  {
   "cell_type": "code",
   "execution_count": 11,
   "metadata": {},
   "outputs": [
    {
     "data": {
      "text/plain": [
       "(378, 16)"
      ]
     },
     "execution_count": 11,
     "metadata": {},
     "output_type": "execute_result"
    }
   ],
   "source": [
    "used_cars.shape"
   ]
  },
  {
   "cell_type": "code",
   "execution_count": 13,
   "metadata": {},
   "outputs": [],
   "source": [
    "used_cars.to_csv('used_cars_dekho_final.csv')"
   ]
  },
  {
   "cell_type": "code",
   "execution_count": null,
   "metadata": {},
   "outputs": [],
   "source": []
  }
 ],
 "metadata": {
  "kernelspec": {
   "display_name": "Python 3",
   "language": "python",
   "name": "python3"
  },
  "language_info": {
   "codemirror_mode": {
    "name": "ipython",
    "version": 3
   },
   "file_extension": ".py",
   "mimetype": "text/x-python",
   "name": "python",
   "nbconvert_exporter": "python",
   "pygments_lexer": "ipython3",
   "version": "3.9.0"
  }
 },
 "nbformat": 4,
 "nbformat_minor": 4
}
